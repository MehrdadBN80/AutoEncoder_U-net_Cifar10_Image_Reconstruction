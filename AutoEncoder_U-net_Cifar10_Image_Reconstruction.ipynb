{
  "metadata": {
    "accelerator": "GPU",
    "colab": {
      "provenance": []
    },
    "gpuClass": "standard",
    "kernelspec": {
      "display_name": "Python 3 (ipykernel)",
      "language": "python",
      "name": "python3"
    },
    "language_info": {
      "codemirror_mode": {
        "name": "ipython",
        "version": 3
      },
      "file_extension": ".py",
      "mimetype": "text/x-python",
      "name": "python",
      "nbconvert_exporter": "python",
      "pygments_lexer": "ipython3",
      "version": "3.9.7"
    }
  },
  "nbformat_minor": 5,
  "nbformat": 4,
  "cells": [
    {
      "cell_type": "markdown",
      "source": [
        "# Mehrdad Baradaran\n",
        "\n",
        "### Assignment 4\n",
        "\n",
        "### Cifar10_Reconstruction\n",
        "\n",
        "### 99222020"
      ],
      "metadata": {
        "id": "7933918f"
      },
      "id": "7933918f"
    },
    {
      "cell_type": "markdown",
      "source": [
        "In this series of exercises, we try to train 50,000 photos from 10 classes. To implement the neural network, we use convolution and pooling layers to have fewer parameters so that we can train easily. In addition, we check the effects of the number of blocks and hidden layers and use dropout and early stopping methods to obtain higher accuracy and display these changes in the graph. Let's go to start!."
      ],
      "metadata": {
        "id": "f286640a"
      },
      "id": "f286640a"
    },
    {
      "cell_type": "markdown",
      "source": [
        "# Import Needed Libraries"
      ],
      "metadata": {
        "id": "fd5c0dd8"
      },
      "id": "fd5c0dd8"
    },
    {
      "cell_type": "code",
      "source": [
        "import tensorflow as tf\n",
        "import pandas as pd\n",
        "import numpy as np\n",
        "import matplotlib.pyplot as plt\n",
        "\n",
        "from datetime import datetime\n",
        "from packaging import version\n",
        "\n",
        "%matplotlib inline"
      ],
      "metadata": {
        "id": "2ea579e1",
        "execution": {
          "iopub.status.busy": "2022-12-27T17:27:08.682571Z",
          "iopub.execute_input": "2022-12-27T17:27:08.682996Z",
          "iopub.status.idle": "2022-12-27T17:27:08.691625Z",
          "shell.execute_reply.started": "2022-12-27T17:27:08.682960Z",
          "shell.execute_reply": "2022-12-27T17:27:08.690556Z"
        },
        "trusted": true
      },
      "execution_count": 1,
      "outputs": [],
      "id": "2ea579e1"
    },
    {
      "cell_type": "markdown",
      "source": [
        "# Load Cifar10 Dataset"
      ],
      "metadata": {
        "id": "e3198d6f"
      },
      "id": "e3198d6f"
    },
    {
      "cell_type": "code",
      "source": [
        "(train_x, train_y), (test_x, test_y) = tf.keras.datasets.cifar10.load_data()"
      ],
      "metadata": {
        "id": "f9fc98b3",
        "execution": {
          "iopub.status.busy": "2022-12-27T17:27:08.697313Z",
          "iopub.execute_input": "2022-12-27T17:27:08.698224Z",
          "iopub.status.idle": "2022-12-27T17:27:09.342492Z",
          "shell.execute_reply.started": "2022-12-27T17:27:08.698183Z",
          "shell.execute_reply": "2022-12-27T17:27:09.341454Z"
        },
        "trusted": true,
        "colab": {
          "base_uri": "https://localhost:8080/"
        },
        "outputId": "1a2a1660-dfb8-4978-d13f-ba5800cd1f74"
      },
      "execution_count": 2,
      "outputs": [
        {
          "output_type": "stream",
          "name": "stdout",
          "text": [
            "Downloading data from https://www.cs.toronto.edu/~kriz/cifar-10-python.tar.gz\n",
            "170498071/170498071 [==============================] - 14s 0us/step\n"
          ]
        }
      ],
      "id": "f9fc98b3"
    },
    {
      "cell_type": "markdown",
      "source": [
        "# Check for Shapes and Types"
      ],
      "metadata": {
        "id": "bfece3fd"
      },
      "id": "bfece3fd"
    },
    {
      "cell_type": "code",
      "source": [
        "train_x.shape, train_x.dtype, type(train_x)"
      ],
      "metadata": {
        "colab": {
          "base_uri": "https://localhost:8080/"
        },
        "id": "b7de3246",
        "outputId": "8906debd-bd69-419a-845e-010e35e6bfcf",
        "execution": {
          "iopub.status.busy": "2022-12-27T17:27:09.345153Z",
          "iopub.execute_input": "2022-12-27T17:27:09.346080Z",
          "iopub.status.idle": "2022-12-27T17:27:09.353522Z",
          "shell.execute_reply.started": "2022-12-27T17:27:09.346036Z",
          "shell.execute_reply": "2022-12-27T17:27:09.352587Z"
        },
        "trusted": true
      },
      "execution_count": 3,
      "outputs": [
        {
          "output_type": "execute_result",
          "data": {
            "text/plain": [
              "((50000, 32, 32, 3), dtype('uint8'), numpy.ndarray)"
            ]
          },
          "metadata": {},
          "execution_count": 3
        }
      ],
      "id": "b7de3246"
    },
    {
      "cell_type": "code",
      "source": [
        "test_x.shape, test_x.dtype, type(test_x)"
      ],
      "metadata": {
        "colab": {
          "base_uri": "https://localhost:8080/"
        },
        "id": "5b9aea53",
        "outputId": "e4e49f6b-4127-485c-f0c8-aa61d67c2bc6",
        "execution": {
          "iopub.status.busy": "2022-12-27T17:27:09.355641Z",
          "iopub.execute_input": "2022-12-27T17:27:09.355934Z",
          "iopub.status.idle": "2022-12-27T17:27:09.366169Z",
          "shell.execute_reply.started": "2022-12-27T17:27:09.355903Z",
          "shell.execute_reply": "2022-12-27T17:27:09.365214Z"
        },
        "trusted": true
      },
      "execution_count": 4,
      "outputs": [
        {
          "output_type": "execute_result",
          "data": {
            "text/plain": [
              "((10000, 32, 32, 3), dtype('uint8'), numpy.ndarray)"
            ]
          },
          "metadata": {},
          "execution_count": 4
        }
      ],
      "id": "5b9aea53"
    },
    {
      "cell_type": "markdown",
      "source": [
        "# Plot some pics of CIFAR_10 Dataset"
      ],
      "metadata": {
        "id": "4218f9db"
      },
      "id": "4218f9db"
    },
    {
      "cell_type": "code",
      "source": [
        "plt.imshow(train_x[11])"
      ],
      "metadata": {
        "colab": {
          "base_uri": "https://localhost:8080/",
          "height": 284
        },
        "id": "738442bf",
        "outputId": "7d8068c7-9485-4521-815c-1e30b7d0ed0e",
        "execution": {
          "iopub.status.busy": "2022-12-27T17:27:09.369086Z",
          "iopub.execute_input": "2022-12-27T17:27:09.369616Z",
          "iopub.status.idle": "2022-12-27T17:27:09.567239Z",
          "shell.execute_reply.started": "2022-12-27T17:27:09.369587Z",
          "shell.execute_reply": "2022-12-27T17:27:09.566337Z"
        },
        "trusted": true
      },
      "execution_count": 5,
      "outputs": [
        {
          "output_type": "execute_result",
          "data": {
            "text/plain": [
              "<matplotlib.image.AxesImage at 0x7fd514cbf5e0>"
            ]
          },
          "metadata": {},
          "execution_count": 5
        },
        {
          "output_type": "display_data",
          "data": {
            "text/plain": [
              "<Figure size 432x288 with 1 Axes>"
            ],
            "image/png": "[encoded data removed]"
          },
          "metadata": {
            "needs_background": "light"
          }
        }
      ],
      "id": "738442bf"
    },
    {
      "cell_type": "code",
      "source": [
        "train_y[11]"
      ],
      "metadata": {
        "colab": {
          "base_uri": "https://localhost:8080/"
        },
        "id": "e293adbe",
        "outputId": "d955f2d3-9e43-4e57-b6df-c694e733a2da",
        "execution": {
          "iopub.status.busy": "2022-12-27T17:27:09.568502Z",
          "iopub.execute_input": "2022-12-27T17:27:09.568863Z",
          "iopub.status.idle": "2022-12-27T17:27:09.575026Z",
          "shell.execute_reply.started": "2022-12-27T17:27:09.568812Z",
          "shell.execute_reply": "2022-12-27T17:27:09.574071Z"
        },
        "trusted": true
      },
      "execution_count": 6,
      "outputs": [
        {
          "output_type": "execute_result",
          "data": {
            "text/plain": [
              "array([7], dtype=uint8)"
            ]
          },
          "metadata": {},
          "execution_count": 6
        }
      ],
      "id": "e293adbe"
    },
    {
      "cell_type": "markdown",
      "source": [
        "# Normalize Data"
      ],
      "metadata": {
        "id": "1030ca9d"
      },
      "id": "1030ca9d"
    },
    {
      "cell_type": "markdown",
      "source": [
        "Inputs between 0 and 1 . type shoud be float32"
      ],
      "metadata": {
        "id": "7e44a911"
      },
      "id": "7e44a911"
    },
    {
      "cell_type": "code",
      "source": [
        "train_x = train_x.astype(np.float32) / 255.0\n",
        "test_x = test_x.astype(np.float32) / 255.0"
      ],
      "metadata": {
        "id": "70149258",
        "execution": {
          "iopub.status.busy": "2022-12-27T17:27:09.576543Z",
          "iopub.execute_input": "2022-12-27T17:27:09.577566Z",
          "iopub.status.idle": "2022-12-27T17:27:09.815138Z",
          "shell.execute_reply.started": "2022-12-27T17:27:09.577528Z",
          "shell.execute_reply": "2022-12-27T17:27:09.814020Z"
        },
        "trusted": true
      },
      "execution_count": 7,
      "outputs": [],
      "id": "70149258"
    },
    {
      "cell_type": "code",
      "source": [
        "train_x.shape, train_x.max(), train_x.min(), train_x.dtype"
      ],
      "metadata": {
        "colab": {
          "base_uri": "https://localhost:8080/"
        },
        "id": "e787fca0",
        "outputId": "977d52ef-c79e-4c44-c710-43be717e57e2",
        "execution": {
          "iopub.status.busy": "2022-12-27T17:27:09.816699Z",
          "iopub.execute_input": "2022-12-27T17:27:09.817096Z",
          "iopub.status.idle": "2022-12-27T17:27:09.925164Z",
          "shell.execute_reply.started": "2022-12-27T17:27:09.817056Z",
          "shell.execute_reply": "2022-12-27T17:27:09.923239Z"
        },
        "trusted": true
      },
      "execution_count": 8,
      "outputs": [
        {
          "output_type": "execute_result",
          "data": {
            "text/plain": [
              "((50000, 32, 32, 3), 1.0, 0.0, dtype('float32'))"
            ]
          },
          "metadata": {},
          "execution_count": 8
        }
      ],
      "id": "e787fca0"
    },
    {
      "cell_type": "code",
      "source": [
        "test_x.shape, test_x.max(), test_x.min(), test_x.dtype"
      ],
      "metadata": {
        "colab": {
          "base_uri": "https://localhost:8080/"
        },
        "id": "7aaf34f8",
        "outputId": "4b964403-4162-48fc-e5b0-e8be1226ec8a",
        "execution": {
          "iopub.status.busy": "2022-12-27T17:27:09.927920Z",
          "iopub.execute_input": "2022-12-27T17:27:09.928875Z",
          "iopub.status.idle": "2022-12-27T17:27:09.955180Z",
          "shell.execute_reply.started": "2022-12-27T17:27:09.928811Z",
          "shell.execute_reply": "2022-12-27T17:27:09.954262Z"
        },
        "trusted": true
      },
      "execution_count": 9,
      "outputs": [
        {
          "output_type": "execute_result",
          "data": {
            "text/plain": [
              "((10000, 32, 32, 3), 1.0, 0.0, dtype('float32'))"
            ]
          },
          "metadata": {},
          "execution_count": 9
        }
      ],
      "id": "7aaf34f8"
    },
    {
      "cell_type": "markdown",
      "source": [
        "# Input Image"
      ],
      "metadata": {
        "id": "d79a87df"
      },
      "id": "d79a87df"
    },
    {
      "cell_type": "markdown",
      "source": [
        "Take 1000 images from CIFAR10. Then, given a pair of images from CIFAR10 𝑥1 and 𝑥2, build a\n",
        "network that can return both images given their average (𝑥1+𝑥2)/2 as the only input."
      ],
      "metadata": {
        "id": "0b1012e1"
      },
      "id": "0b1012e1"
    },
    {
      "cell_type": "code",
      "source": [
        "subtrain_x = train_x[10500:10800]\n",
        "subtrain_x2 = train_x[47000:47300]\n",
        "labels1 = []\n",
        "labels2 = []\n",
        "avg_input = []\n",
        "for i in range(300):\n",
        "    for j in range(i,300):\n",
        "        labels1.append(subtrain_x[i])\n",
        "        labels2.append(subtrain_x2[j])\n",
        "        avg_input.append((subtrain_x[i]+subtrain_x2[j])/2)\n",
        "        \n",
        "print(len(labels1))\n",
        "print(len(avg_input))"
      ],
      "metadata": {
        "colab": {
          "base_uri": "https://localhost:8080/"
        },
        "id": "7711e312",
        "outputId": "4e71755b-5271-4b7c-f739-de6de1aea8f6",
        "execution": {
          "iopub.status.busy": "2022-12-27T17:27:09.956480Z",
          "iopub.execute_input": "2022-12-27T17:27:09.956930Z",
          "iopub.status.idle": "2022-12-27T17:27:10.550160Z",
          "shell.execute_reply.started": "2022-12-27T17:27:09.956894Z",
          "shell.execute_reply": "2022-12-27T17:27:10.549140Z"
        },
        "trusted": true
      },
      "execution_count": 10,
      "outputs": [
        {
          "output_type": "stream",
          "name": "stdout",
          "text": [
            "45150\n",
            "45150\n"
          ]
        }
      ],
      "id": "7711e312"
    },
    {
      "cell_type": "code",
      "source": [
        "plt.imshow(labels1[0])\n",
        "plt.show()"
      ],
      "metadata": {
        "colab": {
          "base_uri": "https://localhost:8080/",
          "height": 266
        },
        "id": "a9ff0f1c",
        "outputId": "6fc94a12-ef7a-4a7e-b19a-3bc28a264328",
        "execution": {
          "iopub.status.busy": "2022-12-27T17:27:10.554792Z",
          "iopub.execute_input": "2022-12-27T17:27:10.555122Z",
          "iopub.status.idle": "2022-12-27T17:27:10.741930Z",
          "shell.execute_reply.started": "2022-12-27T17:27:10.555093Z",
          "shell.execute_reply": "2022-12-27T17:27:10.740794Z"
        },
        "trusted": true
      },
      "execution_count": 11,
      "outputs": [
        {
          "output_type": "display_data",
          "data": {
            "text/plain": [
              "<Figure size 432x288 with 1 Axes>"
            ],
            "image/png": "[encoded data removed]"
          },
          "metadata": {
            "needs_background": "light"
          }
        }
      ],
      "id": "a9ff0f1c"
    },
    {
      "cell_type": "code",
      "source": [
        "plt.imshow(labels2[0])\n",
        "plt.show()"
      ],
      "metadata": {
        "colab": {
          "base_uri": "https://localhost:8080/",
          "height": 266
        },
        "id": "dddbf774",
        "outputId": "9dc0002c-03bf-492b-b001-c0ef3c941b1f",
        "execution": {
          "iopub.status.busy": "2022-12-27T17:27:10.743898Z",
          "iopub.execute_input": "2022-12-27T17:27:10.744622Z",
          "iopub.status.idle": "2022-12-27T17:27:10.922053Z",
          "shell.execute_reply.started": "2022-12-27T17:27:10.744582Z",
          "shell.execute_reply": "2022-12-27T17:27:10.921159Z"
        },
        "trusted": true
      },
      "execution_count": 12,
      "outputs": [
        {
          "output_type": "display_data",
          "data": {
            "text/plain": [
              "<Figure size 432x288 with 1 Axes>"
            ],
            "image/png": "[encoded data removed]"
          },
          "metadata": {
            "needs_background": "light"
          }
        }
      ],
      "id": "dddbf774"
    },
    {
      "cell_type": "code",
      "source": [
        "plt.imshow(avg_input[0])\n",
        "plt.show()"
      ],
      "metadata": {
        "colab": {
          "base_uri": "https://localhost:8080/",
          "height": 266
        },
        "id": "adeef0d2",
        "outputId": "40209c23-72f8-40a6-e84c-556b3f96e657",
        "execution": {
          "iopub.status.busy": "2022-12-27T17:27:10.923609Z",
          "iopub.execute_input": "2022-12-27T17:27:10.924008Z",
          "iopub.status.idle": "2022-12-27T17:27:11.158396Z",
          "shell.execute_reply.started": "2022-12-27T17:27:10.923970Z",
          "shell.execute_reply": "2022-12-27T17:27:11.157476Z"
        },
        "trusted": true
      },
      "execution_count": 13,
      "outputs": [
        {
          "output_type": "display_data",
          "data": {
            "text/plain": [
              "<Figure size 432x288 with 1 Axes>"
            ],
            "image/png": "[encoded data removed]"
          },
          "metadata": {
            "needs_background": "light"
          }
        }
      ],
      "id": "adeef0d2"
    },
    {
      "cell_type": "code",
      "source": [
        "type(train_x), type(avg_input)"
      ],
      "metadata": {
        "colab": {
          "base_uri": "https://localhost:8080/"
        },
        "id": "2a133010",
        "outputId": "63609a4c-0beb-4ea9-f5b4-4870bb9a6df7",
        "execution": {
          "iopub.status.busy": "2022-12-27T17:27:11.162558Z",
          "iopub.execute_input": "2022-12-27T17:27:11.164754Z",
          "iopub.status.idle": "2022-12-27T17:27:11.175280Z",
          "shell.execute_reply.started": "2022-12-27T17:27:11.164711Z",
          "shell.execute_reply": "2022-12-27T17:27:11.174080Z"
        },
        "trusted": true
      },
      "execution_count": 14,
      "outputs": [
        {
          "output_type": "execute_result",
          "data": {
            "text/plain": [
              "(numpy.ndarray, list)"
            ]
          },
          "metadata": {},
          "execution_count": 14
        }
      ],
      "id": "2a133010"
    },
    {
      "cell_type": "code",
      "source": [
        "avg_input = np.array(avg_input)\n",
        "labels1 = np.array(labels1)\n",
        "labels2 = np.array(labels2)"
      ],
      "metadata": {
        "id": "929ca9e5",
        "execution": {
          "iopub.status.busy": "2022-12-27T17:27:11.179707Z",
          "iopub.execute_input": "2022-12-27T17:27:11.182012Z",
          "iopub.status.idle": "2022-12-27T17:27:12.918604Z",
          "shell.execute_reply.started": "2022-12-27T17:27:11.181972Z",
          "shell.execute_reply": "2022-12-27T17:27:12.917526Z"
        },
        "trusted": true
      },
      "execution_count": 15,
      "outputs": [],
      "id": "929ca9e5"
    },
    {
      "cell_type": "code",
      "source": [
        "type(avg_input)"
      ],
      "metadata": {
        "colab": {
          "base_uri": "https://localhost:8080/"
        },
        "id": "65713afb",
        "outputId": "b72f1517-e4d8-42b4-bc52-5427e74cac44",
        "execution": {
          "iopub.status.busy": "2022-12-27T17:27:12.920165Z",
          "iopub.execute_input": "2022-12-27T17:27:12.920559Z",
          "iopub.status.idle": "2022-12-27T17:27:12.936786Z",
          "shell.execute_reply.started": "2022-12-27T17:27:12.920518Z",
          "shell.execute_reply": "2022-12-27T17:27:12.935557Z"
        },
        "trusted": true
      },
      "execution_count": 16,
      "outputs": [
        {
          "output_type": "execute_result",
          "data": {
            "text/plain": [
              "numpy.ndarray"
            ]
          },
          "metadata": {},
          "execution_count": 16
        }
      ],
      "id": "65713afb"
    },
    {
      "cell_type": "code",
      "source": [
        "avg_input.shape"
      ],
      "metadata": {
        "colab": {
          "base_uri": "https://localhost:8080/"
        },
        "id": "a9724e40",
        "outputId": "fae98b2e-d34d-43b6-aed9-5e1721afee21",
        "execution": {
          "iopub.status.busy": "2022-12-27T17:27:12.938331Z",
          "iopub.execute_input": "2022-12-27T17:27:12.938810Z",
          "iopub.status.idle": "2022-12-27T17:27:12.951856Z",
          "shell.execute_reply.started": "2022-12-27T17:27:12.938772Z",
          "shell.execute_reply": "2022-12-27T17:27:12.950894Z"
        },
        "trusted": true
      },
      "execution_count": 17,
      "outputs": [
        {
          "output_type": "execute_result",
          "data": {
            "text/plain": [
              "(45150, 32, 32, 3)"
            ]
          },
          "metadata": {},
          "execution_count": 17
        }
      ],
      "id": "a9724e40"
    },
    {
      "cell_type": "markdown",
      "source": [
        "# Create AutoEncoder Model Architecture\n",
        "\n",
        "\n",
        "#### Import Layers"
      ],
      "metadata": {
        "id": "cd6585f3"
      },
      "id": "cd6585f3"
    },
    {
      "cell_type": "code",
      "source": [
        "from tensorflow.keras.models import Model, Sequential\n",
        "from tensorflow.keras.layers import Input, Dense, Dropout, MaxPooling2D, Conv2D, ReLU, Activation, UpSampling2D, Conv2DTranspose, concatenate, BatchNormalization\n",
        "import tensorflow_probability as tfp \n",
        "from tensorflow.keras.layers import Lambda, InputLayer, Flatten, Reshape, MaxPool2D, LeakyReLU, add\n"
      ],
      "metadata": {
        "id": "7abaf6bb",
        "execution": {
          "iopub.status.busy": "2022-12-27T17:27:12.953386Z",
          "iopub.execute_input": "2022-12-27T17:27:12.953697Z",
          "iopub.status.idle": "2022-12-27T17:27:12.960965Z",
          "shell.execute_reply.started": "2022-12-27T17:27:12.953671Z",
          "shell.execute_reply": "2022-12-27T17:27:12.960036Z"
        },
        "trusted": true
      },
      "execution_count": 18,
      "outputs": [],
      "id": "7abaf6bb"
    },
    {
      "cell_type": "code",
      "source": [
        "#Input Layer\n",
        "input = Input(shape=(32, 32, 3))\n",
        "\n",
        "\n",
        "conv1 = Conv2D(32, (3, 3), activation='relu', padding='same')(input)\n",
        "conv1 = Conv2D(32, (3, 3), activation='relu', padding='same')(conv1)\n",
        "pool1 = MaxPooling2D(pool_size=(2, 2))(conv1)\n",
        "conv2 = Conv2D(64, (3, 3), activation='relu', padding='same')(pool1)\n",
        "conv2 = Conv2D(64, (3, 3), activation='relu', padding='same')(conv2)\n",
        "pool2 = MaxPooling2D(pool_size=(2, 2))(conv2)\n",
        "conv3 = Conv2D(128, (3, 3), activation='relu', padding='same')(pool2)\n",
        "conv3 = Conv2D(128, (3, 3), activation='relu', padding='same')(conv3)\n",
        "pool3 = MaxPooling2D(pool_size=(2, 2))(conv3)\n",
        "conv4 = Conv2D(256, (3, 3), activation='relu', padding='same')(pool3)\n",
        "conv4 = Conv2D(256, (3, 3), activation='relu', padding='same')(conv4)\n",
        "pool4 = MaxPooling2D(pool_size=(2, 2))(conv4)\n",
        "conv5 = Conv2D(512, (3, 3), activation='relu', padding='same')(pool4)\n",
        "encoder = Conv2D(512, (3, 3), activation='relu', padding='same')(conv5)\n",
        "\n",
        "#decoder1\n",
        "\n",
        "up6 = concatenate([Conv2DTranspose(256, (2, 2), strides=(2, 2), padding='same')(encoder), conv4], axis=3)\n",
        "conv6 = Conv2D(256, (3, 3), activation='relu', padding='same')(up6)\n",
        "conv6 = Conv2D(256, (3, 3), activation='relu', padding='same')(conv6)\n",
        "up7 = concatenate([Conv2DTranspose(128, (2, 2), strides=(2, 2), padding='same')(conv6), conv3], axis=3)\n",
        "conv7 = Conv2D(128, (3, 3), activation='relu', padding='same')(up7)\n",
        "conv7 = Conv2D(128, (3, 3), activation='relu', padding='same')(conv7)\n",
        "up8 = concatenate([Conv2DTranspose(64, (2, 2), strides=(2, 2), padding='same')(conv7), conv2], axis=3)\n",
        "conv8 = Conv2D(64, (3, 3), activation='relu', padding='same')(up8)\n",
        "conv8 = Conv2D(64, (3, 3), activation='relu', padding='same')(conv8)\n",
        "up9 = concatenate([Conv2DTranspose(32, (2, 2), strides=(2, 2), padding='same')(conv8), conv1], axis=3)\n",
        "conv9 = Conv2D(32, (3, 3), activation='relu', padding='same')(up9)\n",
        "conv9 = Conv2D(32, (3, 3), activation='relu', padding='same')(conv9)\n",
        "decoder = Conv2D(3, (3, 3), activation='sigmoid', padding='same')(conv9)\n",
        "\n",
        "#decoder2\n",
        "up6 = concatenate([Conv2DTranspose(256, (2, 2), strides=(2, 2), padding='same')(encoder), conv4], axis=3)\n",
        "conv6 = Conv2D(256, (3, 3), activation='relu', padding='same')(up6)\n",
        "conv6 = Conv2D(256, (3, 3), activation='relu', padding='same')(conv6)\n",
        "up7 = concatenate([Conv2DTranspose(128, (2, 2), strides=(2, 2), padding='same')(conv6), conv3], axis=3)\n",
        "conv7 = Conv2D(128, (3, 3), activation='relu', padding='same')(up7)\n",
        "conv7 = Conv2D(128, (3, 3), activation='relu', padding='same')(conv7)\n",
        "up8 = concatenate([Conv2DTranspose(64, (2, 2), strides=(2, 2), padding='same')(conv7), conv2], axis=3)\n",
        "conv8 = Conv2D(64, (3, 3), activation='relu', padding='same')(up8)\n",
        "conv8 = Conv2D(64, (3, 3), activation='relu', padding='same')(conv8)\n",
        "up9 = concatenate([Conv2DTranspose(32, (2, 2), strides=(2, 2), padding='same')(conv8), conv1], axis=3)\n",
        "conv9 = Conv2D(32, (3, 3), activation='relu', padding='same')(up9)\n",
        "conv9 = Conv2D(32, (3, 3), activation='relu', padding='same')(conv9)\n",
        "decoder2 = Conv2D(3, (3, 3), activation='sigmoid', padding='same')(conv9)"
      ],
      "metadata": {
        "id": "BNc11BerLN_d"
      },
      "id": "BNc11BerLN_d",
      "execution_count": 33,
      "outputs": []
    },
    {
      "cell_type": "markdown",
      "source": [
        "# Create Final Model\n",
        "\n",
        "#### summary of model"
      ],
      "metadata": {
        "id": "3a9b544d"
      },
      "id": "3a9b544d"
    },
    {
      "cell_type": "code",
      "source": [],
      "metadata": {
        "id": "JRm6x2LMK8FD"
      },
      "id": "JRm6x2LMK8FD",
      "execution_count": 33,
      "outputs": []
    },
    {
      "cell_type": "code",
      "source": [
        "autoencode_model = Model(input, [decoder, decoder2])\n",
        "autoencode_model.summary()"
      ],
      "metadata": {
        "colab": {
          "base_uri": "https://localhost:8080/"
        },
        "id": "879cfb49",
        "outputId": "a9b8df2f-5a73-4afc-9104-401986b252e5",
        "execution": {
          "iopub.status.busy": "2022-12-27T17:27:13.289610Z",
          "iopub.execute_input": "2022-12-27T17:27:13.290211Z",
          "iopub.status.idle": "2022-12-27T17:27:13.305822Z",
          "shell.execute_reply.started": "2022-12-27T17:27:13.290176Z",
          "shell.execute_reply": "2022-12-27T17:27:13.304745Z"
        },
        "trusted": true
      },
      "execution_count": 34,
      "outputs": [
        {
          "output_type": "stream",
          "name": "stdout",
          "text": [
            "Model: \"model_1\"\n",
            "__________________________________________________________________________________________________\n",
            " Layer (type)                   Output Shape         Param #     Connected to                     \n",
            "==================================================================================================\n",
            " input_2 (InputLayer)           [(None, 32, 32, 3)]  0           []                               \n",
            "                                                                                                  \n",
            " conv2d_28 (Conv2D)             (None, 32, 32, 32)   896         ['input_2[0][0]']                \n",
            "                                                                                                  \n",
            " conv2d_29 (Conv2D)             (None, 32, 32, 32)   9248        ['conv2d_28[0][0]']              \n",
            "                                                                                                  \n",
            " max_pooling2d_4 (MaxPooling2D)  (None, 16, 16, 32)  0           ['conv2d_29[0][0]']              \n",
            "                                                                                                  \n",
            " conv2d_30 (Conv2D)             (None, 16, 16, 64)   18496       ['max_pooling2d_4[0][0]']        \n",
            "                                                                                                  \n",
            " conv2d_31 (Conv2D)             (None, 16, 16, 64)   36928       ['conv2d_30[0][0]']              \n",
            "                                                                                                  \n",
            " max_pooling2d_5 (MaxPooling2D)  (None, 8, 8, 64)    0           ['conv2d_31[0][0]']              \n",
            "                                                                                                  \n",
            " conv2d_32 (Conv2D)             (None, 8, 8, 128)    73856       ['max_pooling2d_5[0][0]']        \n",
            "                                                                                                  \n",
            " conv2d_33 (Conv2D)             (None, 8, 8, 128)    147584      ['conv2d_32[0][0]']              \n",
            "                                                                                                  \n",
            " max_pooling2d_6 (MaxPooling2D)  (None, 4, 4, 128)   0           ['conv2d_33[0][0]']              \n",
            "                                                                                                  \n",
            " conv2d_34 (Conv2D)             (None, 4, 4, 256)    295168      ['max_pooling2d_6[0][0]']        \n",
            "                                                                                                  \n",
            " conv2d_35 (Conv2D)             (None, 4, 4, 256)    590080      ['conv2d_34[0][0]']              \n",
            "                                                                                                  \n",
            " max_pooling2d_7 (MaxPooling2D)  (None, 2, 2, 256)   0           ['conv2d_35[0][0]']              \n",
            "                                                                                                  \n",
            " conv2d_36 (Conv2D)             (None, 2, 2, 512)    1180160     ['max_pooling2d_7[0][0]']        \n",
            "                                                                                                  \n",
            " conv2d_37 (Conv2D)             (None, 2, 2, 512)    2359808     ['conv2d_36[0][0]']              \n",
            "                                                                                                  \n",
            " conv2d_transpose_8 (Conv2DTran  (None, 4, 4, 256)   524544      ['conv2d_37[0][0]']              \n",
            " spose)                                                                                           \n",
            "                                                                                                  \n",
            " conv2d_transpose_12 (Conv2DTra  (None, 4, 4, 256)   524544      ['conv2d_37[0][0]']              \n",
            " nspose)                                                                                          \n",
            "                                                                                                  \n",
            " concatenate_8 (Concatenate)    (None, 4, 4, 512)    0           ['conv2d_transpose_8[0][0]',     \n",
            "                                                                  'conv2d_35[0][0]']              \n",
            "                                                                                                  \n",
            " concatenate_12 (Concatenate)   (None, 4, 4, 512)    0           ['conv2d_transpose_12[0][0]',    \n",
            "                                                                  'conv2d_35[0][0]']              \n",
            "                                                                                                  \n",
            " conv2d_38 (Conv2D)             (None, 4, 4, 256)    1179904     ['concatenate_8[0][0]']          \n",
            "                                                                                                  \n",
            " conv2d_47 (Conv2D)             (None, 4, 4, 256)    1179904     ['concatenate_12[0][0]']         \n",
            "                                                                                                  \n",
            " conv2d_39 (Conv2D)             (None, 4, 4, 256)    590080      ['conv2d_38[0][0]']              \n",
            "                                                                                                  \n",
            " conv2d_48 (Conv2D)             (None, 4, 4, 256)    590080      ['conv2d_47[0][0]']              \n",
            "                                                                                                  \n",
            " conv2d_transpose_9 (Conv2DTran  (None, 8, 8, 128)   131200      ['conv2d_39[0][0]']              \n",
            " spose)                                                                                           \n",
            "                                                                                                  \n",
            " conv2d_transpose_13 (Conv2DTra  (None, 8, 8, 128)   131200      ['conv2d_48[0][0]']              \n",
            " nspose)                                                                                          \n",
            "                                                                                                  \n",
            " concatenate_9 (Concatenate)    (None, 8, 8, 256)    0           ['conv2d_transpose_9[0][0]',     \n",
            "                                                                  'conv2d_33[0][0]']              \n",
            "                                                                                                  \n",
            " concatenate_13 (Concatenate)   (None, 8, 8, 256)    0           ['conv2d_transpose_13[0][0]',    \n",
            "                                                                  'conv2d_33[0][0]']              \n",
            "                                                                                                  \n",
            " conv2d_40 (Conv2D)             (None, 8, 8, 128)    295040      ['concatenate_9[0][0]']          \n",
            "                                                                                                  \n",
            " conv2d_49 (Conv2D)             (None, 8, 8, 128)    295040      ['concatenate_13[0][0]']         \n",
            "                                                                                                  \n",
            " conv2d_41 (Conv2D)             (None, 8, 8, 128)    147584      ['conv2d_40[0][0]']              \n",
            "                                                                                                  \n",
            " conv2d_50 (Conv2D)             (None, 8, 8, 128)    147584      ['conv2d_49[0][0]']              \n",
            "                                                                                                  \n",
            " conv2d_transpose_10 (Conv2DTra  (None, 16, 16, 64)  32832       ['conv2d_41[0][0]']              \n",
            " nspose)                                                                                          \n",
            "                                                                                                  \n",
            " conv2d_transpose_14 (Conv2DTra  (None, 16, 16, 64)  32832       ['conv2d_50[0][0]']              \n",
            " nspose)                                                                                          \n",
            "                                                                                                  \n",
            " concatenate_10 (Concatenate)   (None, 16, 16, 128)  0           ['conv2d_transpose_10[0][0]',    \n",
            "                                                                  'conv2d_31[0][0]']              \n",
            "                                                                                                  \n",
            " concatenate_14 (Concatenate)   (None, 16, 16, 128)  0           ['conv2d_transpose_14[0][0]',    \n",
            "                                                                  'conv2d_31[0][0]']              \n",
            "                                                                                                  \n",
            " conv2d_42 (Conv2D)             (None, 16, 16, 64)   73792       ['concatenate_10[0][0]']         \n",
            "                                                                                                  \n",
            " conv2d_51 (Conv2D)             (None, 16, 16, 64)   73792       ['concatenate_14[0][0]']         \n",
            "                                                                                                  \n",
            " conv2d_43 (Conv2D)             (None, 16, 16, 64)   36928       ['conv2d_42[0][0]']              \n",
            "                                                                                                  \n",
            " conv2d_52 (Conv2D)             (None, 16, 16, 64)   36928       ['conv2d_51[0][0]']              \n",
            "                                                                                                  \n",
            " conv2d_transpose_11 (Conv2DTra  (None, 32, 32, 32)  8224        ['conv2d_43[0][0]']              \n",
            " nspose)                                                                                          \n",
            "                                                                                                  \n",
            " conv2d_transpose_15 (Conv2DTra  (None, 32, 32, 32)  8224        ['conv2d_52[0][0]']              \n",
            " nspose)                                                                                          \n",
            "                                                                                                  \n",
            " concatenate_11 (Concatenate)   (None, 32, 32, 64)   0           ['conv2d_transpose_11[0][0]',    \n",
            "                                                                  'conv2d_29[0][0]']              \n",
            "                                                                                                  \n",
            " concatenate_15 (Concatenate)   (None, 32, 32, 64)   0           ['conv2d_transpose_15[0][0]',    \n",
            "                                                                  'conv2d_29[0][0]']              \n",
            "                                                                                                  \n",
            " conv2d_44 (Conv2D)             (None, 32, 32, 32)   18464       ['concatenate_11[0][0]']         \n",
            "                                                                                                  \n",
            " conv2d_53 (Conv2D)             (None, 32, 32, 32)   18464       ['concatenate_15[0][0]']         \n",
            "                                                                                                  \n",
            " conv2d_45 (Conv2D)             (None, 32, 32, 32)   9248        ['conv2d_44[0][0]']              \n",
            "                                                                                                  \n",
            " conv2d_54 (Conv2D)             (None, 32, 32, 32)   9248        ['conv2d_53[0][0]']              \n",
            "                                                                                                  \n",
            " conv2d_46 (Conv2D)             (None, 32, 32, 3)    867         ['conv2d_45[0][0]']              \n",
            "                                                                                                  \n",
            " conv2d_55 (Conv2D)             (None, 32, 32, 3)    867         ['conv2d_54[0][0]']              \n",
            "                                                                                                  \n",
            "==================================================================================================\n",
            "Total params: 10,809,638\n",
            "Trainable params: 10,809,638\n",
            "Non-trainable params: 0\n",
            "__________________________________________________________________________________________________\n"
          ]
        }
      ],
      "id": "879cfb49"
    },
    {
      "cell_type": "markdown",
      "source": [
        "# Plot Graph\n"
      ],
      "metadata": {
        "id": "ce92871a"
      },
      "id": "ce92871a"
    },
    {
      "cell_type": "markdown",
      "source": [
        "\n",
        "For Better visualization we plot graph of our model\n",
        "But first we should train our model"
      ],
      "metadata": {
        "id": "4af6adf5"
      },
      "id": "4af6adf5"
    },
    {
      "cell_type": "code",
      "source": [
        "%load_ext tensorboard\n",
        "\n",
        "from __future__ import absolute_import\n",
        "from __future__ import division\n",
        "from __future__ import print_function\n"
      ],
      "metadata": {
        "id": "RoyHiFnBsIZN",
        "colab": {
          "base_uri": "https://localhost:8080/"
        },
        "outputId": "18a679f5-fa5c-42da-d4ca-a5e209df911d"
      },
      "id": "RoyHiFnBsIZN",
      "execution_count": 35,
      "outputs": [
        {
          "output_type": "stream",
          "name": "stdout",
          "text": [
            "The tensorboard extension is already loaded. To reload it, use:\n",
            "  %reload_ext tensorboard\n"
          ]
        }
      ]
    },
    {
      "cell_type": "markdown",
      "source": [
        "# Compile and Train Model"
      ],
      "metadata": {
        "id": "9ea31745"
      },
      "id": "9ea31745"
    },
    {
      "cell_type": "code",
      "source": [
        "from keras.optimizers import Adam"
      ],
      "metadata": {
        "id": "-PnZZZ01NTXA"
      },
      "id": "-PnZZZ01NTXA",
      "execution_count": 36,
      "outputs": []
    },
    {
      "cell_type": "code",
      "source": [
        "autoencode_model.compile(optimizer=Adam(0.0005), loss='mse')"
      ],
      "metadata": {
        "id": "37f9acd7",
        "execution": {
          "iopub.status.busy": "2022-12-27T17:27:13.307386Z",
          "iopub.execute_input": "2022-12-27T17:27:13.307748Z",
          "iopub.status.idle": "2022-12-27T17:27:13.317137Z",
          "shell.execute_reply.started": "2022-12-27T17:27:13.307712Z",
          "shell.execute_reply": "2022-12-27T17:27:13.316195Z"
        },
        "trusted": true
      },
      "execution_count": 37,
      "outputs": [],
      "id": "37f9acd7"
    },
    {
      "cell_type": "markdown",
      "source": [
        "#### Using EarlyStopping Method"
      ],
      "metadata": {
        "id": "95acec58"
      },
      "id": "95acec58"
    },
    {
      "cell_type": "code",
      "source": [
        "from tensorflow.keras.callbacks import EarlyStopping, TensorBoard"
      ],
      "metadata": {
        "id": "625c6c2e",
        "execution": {
          "iopub.status.busy": "2022-12-27T17:27:13.318574Z",
          "iopub.execute_input": "2022-12-27T17:27:13.318963Z",
          "iopub.status.idle": "2022-12-27T17:27:13.324626Z",
          "shell.execute_reply.started": "2022-12-27T17:27:13.318923Z",
          "shell.execute_reply": "2022-12-27T17:27:13.323449Z"
        },
        "trusted": true
      },
      "execution_count": 38,
      "outputs": [],
      "id": "625c6c2e"
    },
    {
      "cell_type": "code",
      "source": [
        "early_stop = EarlyStopping(monitor='val_loss', mode='min', patience=5, restore_best_weights=True)\n",
        "logdir=\"logs/fit/\" + datetime.now().strftime(\"%Y%m%d-%H%M%S\")\n",
        "tensorboard_callback = TensorBoard(log_dir=logdir)\n"
      ],
      "metadata": {
        "id": "07f8915b",
        "execution": {
          "iopub.status.busy": "2022-12-27T17:27:13.326286Z",
          "iopub.execute_input": "2022-12-27T17:27:13.326655Z",
          "iopub.status.idle": "2022-12-27T17:27:13.335039Z",
          "shell.execute_reply.started": "2022-12-27T17:27:13.326619Z",
          "shell.execute_reply": "2022-12-27T17:27:13.334156Z"
        },
        "trusted": true
      },
      "execution_count": 39,
      "outputs": [],
      "id": "07f8915b"
    },
    {
      "cell_type": "markdown",
      "source": [
        "# Create test data"
      ],
      "metadata": {
        "id": "644979dd"
      },
      "id": "644979dd"
    },
    {
      "cell_type": "code",
      "source": [
        "subtest_x = test_x[9500:9600]\n",
        "subtest_x2 = test_x[7000:7100]\n",
        "test_labels1 = []\n",
        "test_labels2 = []\n",
        "test_input = []\n",
        "for i in range(100):\n",
        "    for j in range(i,100):\n",
        "        test_labels1.append(subtest_x[i])\n",
        "        test_labels2.append(subtest_x2[j])\n",
        "        test_input.append((subtest_x[i]+subtest_x2[j])/2)\n",
        "        \n",
        "print(len(test_labels1))\n",
        "print(len(test_input))"
      ],
      "metadata": {
        "colab": {
          "base_uri": "https://localhost:8080/"
        },
        "id": "8bd0948e",
        "outputId": "d33ef8b4-4367-4d2d-bab6-11d2fc31d556",
        "execution": {
          "iopub.status.busy": "2022-12-27T17:27:13.336352Z",
          "iopub.execute_input": "2022-12-27T17:27:13.337442Z",
          "iopub.status.idle": "2022-12-27T17:27:13.439903Z",
          "shell.execute_reply.started": "2022-12-27T17:27:13.337405Z",
          "shell.execute_reply": "2022-12-27T17:27:13.438989Z"
        },
        "trusted": true
      },
      "execution_count": 40,
      "outputs": [
        {
          "output_type": "stream",
          "name": "stdout",
          "text": [
            "5050\n",
            "5050\n"
          ]
        }
      ],
      "id": "8bd0948e"
    },
    {
      "cell_type": "code",
      "source": [
        "test_input = np.array(test_input)\n",
        "test_labels1 = np.array(test_labels1)\n",
        "test_labels2 = np.array(test_labels2)"
      ],
      "metadata": {
        "id": "04a99e20",
        "execution": {
          "iopub.status.busy": "2022-12-27T17:27:13.442004Z",
          "iopub.execute_input": "2022-12-27T17:27:13.442653Z",
          "iopub.status.idle": "2022-12-27T17:27:13.842235Z",
          "shell.execute_reply.started": "2022-12-27T17:27:13.442615Z",
          "shell.execute_reply": "2022-12-27T17:27:13.841180Z"
        },
        "trusted": true
      },
      "execution_count": 41,
      "outputs": [],
      "id": "04a99e20"
    },
    {
      "cell_type": "markdown",
      "source": [
        "## Fit Model\n"
      ],
      "metadata": {
        "id": "87b9526d"
      },
      "id": "87b9526d"
    },
    {
      "cell_type": "code",
      "source": [
        "autoencode_model.fit(avg_input, [labels1, labels2], epochs=80, batch_size=128, \n",
        "                        validation_data=(test_input, [test_labels1, test_labels2]), callbacks=[tensorboard_callback])"
      ],
      "metadata": {
        "colab": {
          "base_uri": "https://localhost:8080/"
        },
        "id": "975fb43b",
        "outputId": "b4752a30-f63d-4fd5-f1da-e3580e3fb75d",
        "execution": {
          "iopub.status.busy": "2022-12-27T17:27:13.844087Z",
          "iopub.execute_input": "2022-12-27T17:27:13.844499Z",
          "iopub.status.idle": "2022-12-27T17:39:34.779221Z",
          "shell.execute_reply.started": "2022-12-27T17:27:13.844460Z",
          "shell.execute_reply": "2022-12-27T17:39:34.775791Z"
        },
        "trusted": true
      },
      "execution_count": 42,
      "outputs": [
        {
          "output_type": "stream",
          "name": "stdout",
          "text": [
            "Epoch 1/80\n",
            "353/353 [==============================] - 39s 98ms/step - loss: 0.0716 - conv2d_46_loss: 0.0357 - conv2d_55_loss: 0.0359 - val_loss: 0.0602 - val_conv2d_46_loss: 0.0303 - val_conv2d_55_loss: 0.0299\n",
            "Epoch 2/80\n",
            "353/353 [==============================] - 32s 91ms/step - loss: 0.0449 - conv2d_46_loss: 0.0223 - conv2d_55_loss: 0.0226 - val_loss: 0.0705 - val_conv2d_46_loss: 0.0354 - val_conv2d_55_loss: 0.0351\n",
            "Epoch 3/80\n",
            "353/353 [==============================] - 32s 91ms/step - loss: 0.0250 - conv2d_46_loss: 0.0123 - conv2d_55_loss: 0.0127 - val_loss: 0.0693 - val_conv2d_46_loss: 0.0348 - val_conv2d_55_loss: 0.0345\n",
            "Epoch 4/80\n",
            "353/353 [==============================] - 32s 91ms/step - loss: 0.0176 - conv2d_46_loss: 0.0087 - conv2d_55_loss: 0.0089 - val_loss: 0.0718 - val_conv2d_46_loss: 0.0357 - val_conv2d_55_loss: 0.0361\n",
            "Epoch 5/80\n",
            "353/353 [==============================] - 32s 91ms/step - loss: 0.0133 - conv2d_46_loss: 0.0067 - conv2d_55_loss: 0.0066 - val_loss: 0.0744 - val_conv2d_46_loss: 0.0366 - val_conv2d_55_loss: 0.0378\n",
            "Epoch 6/80\n",
            "353/353 [==============================] - 32s 91ms/step - loss: 0.0100 - conv2d_46_loss: 0.0050 - conv2d_55_loss: 0.0050 - val_loss: 0.0744 - val_conv2d_46_loss: 0.0372 - val_conv2d_55_loss: 0.0372\n",
            "Epoch 7/80\n",
            "353/353 [==============================] - 32s 91ms/step - loss: 0.0080 - conv2d_46_loss: 0.0040 - conv2d_55_loss: 0.0040 - val_loss: 0.0749 - val_conv2d_46_loss: 0.0372 - val_conv2d_55_loss: 0.0377\n",
            "Epoch 8/80\n",
            "353/353 [==============================] - 32s 91ms/step - loss: 0.0067 - conv2d_46_loss: 0.0034 - conv2d_55_loss: 0.0033 - val_loss: 0.0740 - val_conv2d_46_loss: 0.0366 - val_conv2d_55_loss: 0.0374\n",
            "Epoch 9/80\n",
            "353/353 [==============================] - 32s 91ms/step - loss: 0.0058 - conv2d_46_loss: 0.0029 - conv2d_55_loss: 0.0028 - val_loss: 0.0764 - val_conv2d_46_loss: 0.0381 - val_conv2d_55_loss: 0.0383\n",
            "Epoch 10/80\n",
            "353/353 [==============================] - 32s 91ms/step - loss: 0.0050 - conv2d_46_loss: 0.0026 - conv2d_55_loss: 0.0024 - val_loss: 0.0765 - val_conv2d_46_loss: 0.0379 - val_conv2d_55_loss: 0.0386\n",
            "Epoch 11/80\n",
            "353/353 [==============================] - 32s 91ms/step - loss: 0.0044 - conv2d_46_loss: 0.0023 - conv2d_55_loss: 0.0021 - val_loss: 0.0781 - val_conv2d_46_loss: 0.0392 - val_conv2d_55_loss: 0.0389\n",
            "Epoch 12/80\n",
            "353/353 [==============================] - 32s 91ms/step - loss: 0.0038 - conv2d_46_loss: 0.0020 - conv2d_55_loss: 0.0018 - val_loss: 0.0777 - val_conv2d_46_loss: 0.0386 - val_conv2d_55_loss: 0.0391\n",
            "Epoch 13/80\n",
            "353/353 [==============================] - 32s 91ms/step - loss: 0.0033 - conv2d_46_loss: 0.0018 - conv2d_55_loss: 0.0015 - val_loss: 0.0821 - val_conv2d_46_loss: 0.0406 - val_conv2d_55_loss: 0.0415\n",
            "Epoch 14/80\n",
            "353/353 [==============================] - 32s 91ms/step - loss: 0.0029 - conv2d_46_loss: 0.0016 - conv2d_55_loss: 0.0013 - val_loss: 0.0811 - val_conv2d_46_loss: 0.0400 - val_conv2d_55_loss: 0.0411\n",
            "Epoch 15/80\n",
            "353/353 [==============================] - 32s 91ms/step - loss: 0.0025 - conv2d_46_loss: 0.0014 - conv2d_55_loss: 0.0011 - val_loss: 0.0836 - val_conv2d_46_loss: 0.0409 - val_conv2d_55_loss: 0.0427\n",
            "Epoch 16/80\n",
            "353/353 [==============================] - 32s 91ms/step - loss: 0.0022 - conv2d_46_loss: 0.0013 - conv2d_55_loss: 9.5624e-04 - val_loss: 0.0849 - val_conv2d_46_loss: 0.0416 - val_conv2d_55_loss: 0.0433\n",
            "Epoch 17/80\n",
            "353/353 [==============================] - 32s 91ms/step - loss: 0.0020 - conv2d_46_loss: 0.0011 - conv2d_55_loss: 8.4472e-04 - val_loss: 0.0852 - val_conv2d_46_loss: 0.0417 - val_conv2d_55_loss: 0.0435\n",
            "Epoch 18/80\n",
            "353/353 [==============================] - 32s 91ms/step - loss: 0.0019 - conv2d_46_loss: 0.0011 - conv2d_55_loss: 7.8120e-04 - val_loss: 0.0871 - val_conv2d_46_loss: 0.0423 - val_conv2d_55_loss: 0.0448\n",
            "Epoch 19/80\n",
            "353/353 [==============================] - 32s 91ms/step - loss: 0.0120 - conv2d_46_loss: 0.0058 - conv2d_55_loss: 0.0063 - val_loss: 0.0581 - val_conv2d_46_loss: 0.0288 - val_conv2d_55_loss: 0.0292\n",
            "Epoch 20/80\n",
            "353/353 [==============================] - 32s 90ms/step - loss: 0.0630 - conv2d_46_loss: 0.0314 - conv2d_55_loss: 0.0316 - val_loss: 0.0572 - val_conv2d_46_loss: 0.0285 - val_conv2d_55_loss: 0.0287\n",
            "Epoch 21/80\n",
            "353/353 [==============================] - 32s 90ms/step - loss: 0.0560 - conv2d_46_loss: 0.0277 - conv2d_55_loss: 0.0282 - val_loss: 0.0668 - val_conv2d_46_loss: 0.0327 - val_conv2d_55_loss: 0.0341\n",
            "Epoch 22/80\n",
            "353/353 [==============================] - 32s 90ms/step - loss: 0.0270 - conv2d_46_loss: 0.0117 - conv2d_55_loss: 0.0153 - val_loss: 0.0744 - val_conv2d_46_loss: 0.0377 - val_conv2d_55_loss: 0.0367\n",
            "Epoch 23/80\n",
            "353/353 [==============================] - 32s 91ms/step - loss: 0.0095 - conv2d_46_loss: 0.0027 - conv2d_55_loss: 0.0068 - val_loss: 0.0814 - val_conv2d_46_loss: 0.0413 - val_conv2d_55_loss: 0.0401\n",
            "Epoch 24/80\n",
            "353/353 [==============================] - 32s 91ms/step - loss: 0.0046 - conv2d_46_loss: 0.0014 - conv2d_55_loss: 0.0032 - val_loss: 0.0846 - val_conv2d_46_loss: 0.0424 - val_conv2d_55_loss: 0.0422\n",
            "Epoch 25/80\n",
            "353/353 [==============================] - 32s 91ms/step - loss: 0.0032 - conv2d_46_loss: 0.0010 - conv2d_55_loss: 0.0022 - val_loss: 0.0868 - val_conv2d_46_loss: 0.0431 - val_conv2d_55_loss: 0.0437\n",
            "Epoch 26/80\n",
            "353/353 [==============================] - 32s 91ms/step - loss: 0.0026 - conv2d_46_loss: 9.1805e-04 - conv2d_55_loss: 0.0017 - val_loss: 0.0893 - val_conv2d_46_loss: 0.0444 - val_conv2d_55_loss: 0.0448\n",
            "Epoch 27/80\n",
            "353/353 [==============================] - 32s 91ms/step - loss: 0.0022 - conv2d_46_loss: 8.2060e-04 - conv2d_55_loss: 0.0014 - val_loss: 0.0889 - val_conv2d_46_loss: 0.0438 - val_conv2d_55_loss: 0.0451\n",
            "Epoch 28/80\n",
            "353/353 [==============================] - 32s 91ms/step - loss: 0.0020 - conv2d_46_loss: 7.7113e-04 - conv2d_55_loss: 0.0012 - val_loss: 0.0912 - val_conv2d_46_loss: 0.0450 - val_conv2d_55_loss: 0.0462\n",
            "Epoch 29/80\n",
            "353/353 [==============================] - 32s 91ms/step - loss: 0.0017 - conv2d_46_loss: 7.0645e-04 - conv2d_55_loss: 0.0010 - val_loss: 0.0917 - val_conv2d_46_loss: 0.0451 - val_conv2d_55_loss: 0.0466\n",
            "Epoch 30/80\n",
            "353/353 [==============================] - 32s 91ms/step - loss: 0.0016 - conv2d_46_loss: 6.7316e-04 - conv2d_55_loss: 9.2742e-04 - val_loss: 0.0910 - val_conv2d_46_loss: 0.0446 - val_conv2d_55_loss: 0.0464\n",
            "Epoch 31/80\n",
            "353/353 [==============================] - 32s 91ms/step - loss: 0.0015 - conv2d_46_loss: 6.3426e-04 - conv2d_55_loss: 8.3277e-04 - val_loss: 0.0919 - val_conv2d_46_loss: 0.0449 - val_conv2d_55_loss: 0.0470\n",
            "Epoch 32/80\n",
            "353/353 [==============================] - 32s 91ms/step - loss: 0.0014 - conv2d_46_loss: 6.1750e-04 - conv2d_55_loss: 7.5600e-04 - val_loss: 0.0927 - val_conv2d_46_loss: 0.0457 - val_conv2d_55_loss: 0.0470\n",
            "Epoch 33/80\n",
            "353/353 [==============================] - 32s 91ms/step - loss: 0.0129 - conv2d_46_loss: 0.0061 - conv2d_55_loss: 0.0068 - val_loss: 0.0716 - val_conv2d_46_loss: 0.0367 - val_conv2d_55_loss: 0.0349\n",
            "Epoch 34/80\n",
            "353/353 [==============================] - 32s 91ms/step - loss: 0.0073 - conv2d_46_loss: 0.0028 - conv2d_55_loss: 0.0044 - val_loss: 0.0942 - val_conv2d_46_loss: 0.0463 - val_conv2d_55_loss: 0.0478\n",
            "Epoch 35/80\n",
            "353/353 [==============================] - 32s 91ms/step - loss: 0.0023 - conv2d_46_loss: 7.9171e-04 - conv2d_55_loss: 0.0015 - val_loss: 0.0958 - val_conv2d_46_loss: 0.0469 - val_conv2d_55_loss: 0.0489\n",
            "Epoch 36/80\n",
            "353/353 [==============================] - 32s 91ms/step - loss: 0.0017 - conv2d_46_loss: 6.4695e-04 - conv2d_55_loss: 0.0011 - val_loss: 0.0979 - val_conv2d_46_loss: 0.0478 - val_conv2d_55_loss: 0.0501\n",
            "Epoch 37/80\n",
            "353/353 [==============================] - 32s 91ms/step - loss: 0.0015 - conv2d_46_loss: 6.0442e-04 - conv2d_55_loss: 8.7243e-04 - val_loss: 0.0969 - val_conv2d_46_loss: 0.0473 - val_conv2d_55_loss: 0.0496\n",
            "Epoch 38/80\n",
            "353/353 [==============================] - 32s 91ms/step - loss: 0.0013 - conv2d_46_loss: 5.6531e-04 - conv2d_55_loss: 7.5399e-04 - val_loss: 0.0964 - val_conv2d_46_loss: 0.0467 - val_conv2d_55_loss: 0.0498\n",
            "Epoch 39/80\n",
            "353/353 [==============================] - 32s 91ms/step - loss: 0.0012 - conv2d_46_loss: 5.2494e-04 - conv2d_55_loss: 6.7880e-04 - val_loss: 0.0967 - val_conv2d_46_loss: 0.0470 - val_conv2d_55_loss: 0.0497\n",
            "Epoch 40/80\n",
            "353/353 [==============================] - 32s 91ms/step - loss: 0.0011 - conv2d_46_loss: 5.1594e-04 - conv2d_55_loss: 6.1874e-04 - val_loss: 0.0971 - val_conv2d_46_loss: 0.0471 - val_conv2d_55_loss: 0.0501\n",
            "Epoch 41/80\n",
            "353/353 [==============================] - 32s 91ms/step - loss: 0.0010 - conv2d_46_loss: 4.7595e-04 - conv2d_55_loss: 5.7381e-04 - val_loss: 0.0971 - val_conv2d_46_loss: 0.0472 - val_conv2d_55_loss: 0.0499\n",
            "Epoch 42/80\n",
            "353/353 [==============================] - 32s 91ms/step - loss: 0.0010 - conv2d_46_loss: 4.7237e-04 - conv2d_55_loss: 5.3692e-04 - val_loss: 0.0971 - val_conv2d_46_loss: 0.0469 - val_conv2d_55_loss: 0.0501\n",
            "Epoch 43/80\n",
            "353/353 [==============================] - 32s 91ms/step - loss: 9.3327e-04 - conv2d_46_loss: 4.3875e-04 - conv2d_55_loss: 4.9452e-04 - val_loss: 0.0976 - val_conv2d_46_loss: 0.0475 - val_conv2d_55_loss: 0.0502\n",
            "Epoch 44/80\n",
            "353/353 [==============================] - 32s 91ms/step - loss: 9.3404e-04 - conv2d_46_loss: 4.5838e-04 - conv2d_55_loss: 4.7565e-04 - val_loss: 0.0978 - val_conv2d_46_loss: 0.0474 - val_conv2d_55_loss: 0.0504\n",
            "Epoch 45/80\n",
            "353/353 [==============================] - 32s 91ms/step - loss: 8.4285e-04 - conv2d_46_loss: 4.0106e-04 - conv2d_55_loss: 4.4179e-04 - val_loss: 0.0976 - val_conv2d_46_loss: 0.0474 - val_conv2d_55_loss: 0.0502\n",
            "Epoch 46/80\n",
            "353/353 [==============================] - 32s 91ms/step - loss: 8.3235e-04 - conv2d_46_loss: 4.1133e-04 - conv2d_55_loss: 4.2102e-04 - val_loss: 0.0975 - val_conv2d_46_loss: 0.0475 - val_conv2d_55_loss: 0.0500\n",
            "Epoch 47/80\n",
            "353/353 [==============================] - 32s 91ms/step - loss: 7.9665e-04 - conv2d_46_loss: 3.9206e-04 - conv2d_55_loss: 4.0459e-04 - val_loss: 0.0972 - val_conv2d_46_loss: 0.0472 - val_conv2d_55_loss: 0.0500\n",
            "Epoch 48/80\n",
            "353/353 [==============================] - 32s 91ms/step - loss: 0.0032 - conv2d_46_loss: 0.0014 - conv2d_55_loss: 0.0018 - val_loss: 0.0971 - val_conv2d_46_loss: 0.0471 - val_conv2d_55_loss: 0.0499\n",
            "Epoch 49/80\n",
            "353/353 [==============================] - 32s 91ms/step - loss: 0.0012 - conv2d_46_loss: 5.6174e-04 - conv2d_55_loss: 6.3844e-04 - val_loss: 0.0998 - val_conv2d_46_loss: 0.0484 - val_conv2d_55_loss: 0.0514\n",
            "Epoch 50/80\n",
            "353/353 [==============================] - 32s 92ms/step - loss: 8.2214e-04 - conv2d_46_loss: 4.0736e-04 - conv2d_55_loss: 4.1478e-04 - val_loss: 0.0974 - val_conv2d_46_loss: 0.0472 - val_conv2d_55_loss: 0.0502\n",
            "Epoch 51/80\n",
            "353/353 [==============================] - 32s 91ms/step - loss: 7.3188e-04 - conv2d_46_loss: 3.7830e-04 - conv2d_55_loss: 3.5358e-04 - val_loss: 0.0986 - val_conv2d_46_loss: 0.0478 - val_conv2d_55_loss: 0.0508\n",
            "Epoch 52/80\n",
            "353/353 [==============================] - 32s 91ms/step - loss: 7.2823e-04 - conv2d_46_loss: 3.9424e-04 - conv2d_55_loss: 3.3399e-04 - val_loss: 0.0971 - val_conv2d_46_loss: 0.0467 - val_conv2d_55_loss: 0.0503\n",
            "Epoch 53/80\n",
            "353/353 [==============================] - 32s 91ms/step - loss: 6.7335e-04 - conv2d_46_loss: 3.4563e-04 - conv2d_55_loss: 3.2772e-04 - val_loss: 0.0980 - val_conv2d_46_loss: 0.0477 - val_conv2d_55_loss: 0.0503\n",
            "Epoch 54/80\n",
            "353/353 [==============================] - 32s 91ms/step - loss: 6.5529e-04 - conv2d_46_loss: 3.3948e-04 - conv2d_55_loss: 3.1580e-04 - val_loss: 0.0983 - val_conv2d_46_loss: 0.0479 - val_conv2d_55_loss: 0.0504\n",
            "Epoch 55/80\n",
            "353/353 [==============================] - 32s 91ms/step - loss: 6.4655e-04 - conv2d_46_loss: 3.4603e-04 - conv2d_55_loss: 3.0052e-04 - val_loss: 0.0983 - val_conv2d_46_loss: 0.0479 - val_conv2d_55_loss: 0.0504\n",
            "Epoch 56/80\n",
            "353/353 [==============================] - 32s 91ms/step - loss: 6.2456e-04 - conv2d_46_loss: 3.3029e-04 - conv2d_55_loss: 2.9427e-04 - val_loss: 0.0977 - val_conv2d_46_loss: 0.0474 - val_conv2d_55_loss: 0.0504\n",
            "Epoch 57/80\n",
            "353/353 [==============================] - 32s 91ms/step - loss: 6.0434e-04 - conv2d_46_loss: 3.2522e-04 - conv2d_55_loss: 2.7913e-04 - val_loss: 0.0977 - val_conv2d_46_loss: 0.0476 - val_conv2d_55_loss: 0.0502\n",
            "Epoch 58/80\n",
            "353/353 [==============================] - 32s 91ms/step - loss: 5.8880e-04 - conv2d_46_loss: 3.1990e-04 - conv2d_55_loss: 2.6890e-04 - val_loss: 0.0981 - val_conv2d_46_loss: 0.0478 - val_conv2d_55_loss: 0.0502\n",
            "Epoch 59/80\n",
            "353/353 [==============================] - 32s 91ms/step - loss: 5.7614e-04 - conv2d_46_loss: 3.1234e-04 - conv2d_55_loss: 2.6380e-04 - val_loss: 0.0971 - val_conv2d_46_loss: 0.0473 - val_conv2d_55_loss: 0.0498\n",
            "Epoch 60/80\n",
            "353/353 [==============================] - 32s 91ms/step - loss: 5.5092e-04 - conv2d_46_loss: 2.9490e-04 - conv2d_55_loss: 2.5602e-04 - val_loss: 0.0966 - val_conv2d_46_loss: 0.0469 - val_conv2d_55_loss: 0.0496\n",
            "Epoch 61/80\n",
            "353/353 [==============================] - 32s 91ms/step - loss: 5.3790e-04 - conv2d_46_loss: 2.8705e-04 - conv2d_55_loss: 2.5085e-04 - val_loss: 0.0971 - val_conv2d_46_loss: 0.0471 - val_conv2d_55_loss: 0.0500\n",
            "Epoch 62/80\n",
            "353/353 [==============================] - 32s 91ms/step - loss: 5.5267e-04 - conv2d_46_loss: 3.0426e-04 - conv2d_55_loss: 2.4841e-04 - val_loss: 0.0972 - val_conv2d_46_loss: 0.0473 - val_conv2d_55_loss: 0.0499\n",
            "Epoch 63/80\n",
            "353/353 [==============================] - 32s 91ms/step - loss: 4.9926e-04 - conv2d_46_loss: 2.7656e-04 - conv2d_55_loss: 2.2270e-04 - val_loss: 0.0969 - val_conv2d_46_loss: 0.0470 - val_conv2d_55_loss: 0.0499\n",
            "Epoch 64/80\n",
            "353/353 [==============================] - 32s 91ms/step - loss: 5.0200e-04 - conv2d_46_loss: 2.7501e-04 - conv2d_55_loss: 2.2699e-04 - val_loss: 0.0970 - val_conv2d_46_loss: 0.0473 - val_conv2d_55_loss: 0.0497\n",
            "Epoch 65/80\n",
            "353/353 [==============================] - 32s 91ms/step - loss: 4.9442e-04 - conv2d_46_loss: 2.6766e-04 - conv2d_55_loss: 2.2676e-04 - val_loss: 0.0963 - val_conv2d_46_loss: 0.0469 - val_conv2d_55_loss: 0.0494\n",
            "Epoch 66/80\n",
            "353/353 [==============================] - 32s 91ms/step - loss: 4.9539e-04 - conv2d_46_loss: 2.8086e-04 - conv2d_55_loss: 2.1453e-04 - val_loss: 0.0971 - val_conv2d_46_loss: 0.0472 - val_conv2d_55_loss: 0.0499\n",
            "Epoch 67/80\n",
            "353/353 [==============================] - 32s 91ms/step - loss: 4.6413e-04 - conv2d_46_loss: 2.5040e-04 - conv2d_55_loss: 2.1373e-04 - val_loss: 0.0969 - val_conv2d_46_loss: 0.0472 - val_conv2d_55_loss: 0.0497\n",
            "Epoch 68/80\n",
            "353/353 [==============================] - 32s 90ms/step - loss: 4.6801e-04 - conv2d_46_loss: 2.6106e-04 - conv2d_55_loss: 2.0695e-04 - val_loss: 0.0968 - val_conv2d_46_loss: 0.0469 - val_conv2d_55_loss: 0.0499\n",
            "Epoch 69/80\n",
            "353/353 [==============================] - 32s 91ms/step - loss: 4.6624e-04 - conv2d_46_loss: 2.6063e-04 - conv2d_55_loss: 2.0561e-04 - val_loss: 0.0965 - val_conv2d_46_loss: 0.0470 - val_conv2d_55_loss: 0.0495\n",
            "Epoch 70/80\n",
            "353/353 [==============================] - 32s 91ms/step - loss: 0.0045 - conv2d_46_loss: 0.0020 - conv2d_55_loss: 0.0025 - val_loss: 0.0955 - val_conv2d_46_loss: 0.0474 - val_conv2d_55_loss: 0.0480\n",
            "Epoch 71/80\n",
            "353/353 [==============================] - 32s 90ms/step - loss: 0.0033 - conv2d_46_loss: 0.0014 - conv2d_55_loss: 0.0019 - val_loss: 0.0981 - val_conv2d_46_loss: 0.0480 - val_conv2d_55_loss: 0.0501\n",
            "Epoch 72/80\n",
            "353/353 [==============================] - 32s 90ms/step - loss: 0.0012 - conv2d_46_loss: 4.6837e-04 - conv2d_55_loss: 7.0608e-04 - val_loss: 0.0975 - val_conv2d_46_loss: 0.0472 - val_conv2d_55_loss: 0.0503\n",
            "Epoch 73/80\n",
            "353/353 [==============================] - 32s 91ms/step - loss: 8.7444e-04 - conv2d_46_loss: 3.7158e-04 - conv2d_55_loss: 5.0286e-04 - val_loss: 0.0980 - val_conv2d_46_loss: 0.0475 - val_conv2d_55_loss: 0.0505\n",
            "Epoch 74/80\n",
            "353/353 [==============================] - 32s 91ms/step - loss: 7.4774e-04 - conv2d_46_loss: 3.3332e-04 - conv2d_55_loss: 4.1441e-04 - val_loss: 0.0984 - val_conv2d_46_loss: 0.0477 - val_conv2d_55_loss: 0.0507\n",
            "Epoch 75/80\n",
            "353/353 [==============================] - 32s 91ms/step - loss: 6.8449e-04 - conv2d_46_loss: 3.1191e-04 - conv2d_55_loss: 3.7259e-04 - val_loss: 0.0973 - val_conv2d_46_loss: 0.0469 - val_conv2d_55_loss: 0.0504\n",
            "Epoch 76/80\n",
            "353/353 [==============================] - 32s 91ms/step - loss: 6.3229e-04 - conv2d_46_loss: 2.9542e-04 - conv2d_55_loss: 3.3687e-04 - val_loss: 0.0972 - val_conv2d_46_loss: 0.0468 - val_conv2d_55_loss: 0.0504\n",
            "Epoch 77/80\n",
            "353/353 [==============================] - 32s 91ms/step - loss: 5.8855e-04 - conv2d_46_loss: 2.7706e-04 - conv2d_55_loss: 3.1149e-04 - val_loss: 0.0976 - val_conv2d_46_loss: 0.0473 - val_conv2d_55_loss: 0.0503\n",
            "Epoch 78/80\n",
            "353/353 [==============================] - 32s 91ms/step - loss: 5.6984e-04 - conv2d_46_loss: 2.7646e-04 - conv2d_55_loss: 2.9338e-04 - val_loss: 0.0978 - val_conv2d_46_loss: 0.0474 - val_conv2d_55_loss: 0.0504\n",
            "Epoch 79/80\n",
            "353/353 [==============================] - 32s 91ms/step - loss: 5.4672e-04 - conv2d_46_loss: 2.6603e-04 - conv2d_55_loss: 2.8069e-04 - val_loss: 0.0976 - val_conv2d_46_loss: 0.0472 - val_conv2d_55_loss: 0.0503\n",
            "Epoch 80/80\n",
            "353/353 [==============================] - 32s 91ms/step - loss: 5.2556e-04 - conv2d_46_loss: 2.5817e-04 - conv2d_55_loss: 2.6739e-04 - val_loss: 0.0970 - val_conv2d_46_loss: 0.0469 - val_conv2d_55_loss: 0.0501\n"
          ]
        },
        {
          "output_type": "execute_result",
          "data": {
            "text/plain": [
              "<keras.callbacks.History at 0x7fd390721730>"
            ]
          },
          "metadata": {},
          "execution_count": 42
        }
      ],
      "id": "975fb43b"
    },
    {
      "cell_type": "markdown",
      "source": [
        "# Plot Loss"
      ],
      "metadata": {
        "id": "_9T9nQAcwcpP"
      },
      "id": "_9T9nQAcwcpP"
    },
    {
      "cell_type": "code",
      "source": [
        "model_history = pd.DataFrame(autoencode_model.history.history)\n",
        "model_history[['loss', 'val_loss']].plot()"
      ],
      "metadata": {
        "colab": {
          "base_uri": "https://localhost:8080/",
          "height": 283
        },
        "id": "ed2f7bad",
        "outputId": "dcc82ea3-548d-43c3-b92a-1e8446b4a1e7",
        "execution": {
          "iopub.status.busy": "2022-12-27T17:39:34.780353Z",
          "iopub.status.idle": "2022-12-27T17:39:34.781452Z",
          "shell.execute_reply.started": "2022-12-27T17:39:34.781193Z",
          "shell.execute_reply": "2022-12-27T17:39:34.781219Z"
        },
        "trusted": true
      },
      "execution_count": 43,
      "outputs": [
        {
          "output_type": "execute_result",
          "data": {
            "text/plain": [
              "<matplotlib.axes._subplots.AxesSubplot at 0x7fd3917c5700>"
            ]
          },
          "metadata": {},
          "execution_count": 43
        },
        {
          "output_type": "display_data",
          "data": {
            "text/plain": [
              "<Figure size 432x288 with 1 Axes>"
            ],
            "image/png": "[encoded data removed]"
          },
          "metadata": {
            "needs_background": "light"
          }
        }
      ],
      "id": "ed2f7bad"
    },
    {
      "cell_type": "markdown",
      "source": [
        "# Graph of Model"
      ],
      "metadata": {
        "id": "AeRtLYqDwfpC"
      },
      "id": "AeRtLYqDwfpC"
    },
    {
      "cell_type": "code",
      "source": [
        "%tensorboard --logdir logs"
      ],
      "metadata": {
        "id": "PRcdHPTptw-5",
        "trusted": true
      },
      "execution_count": null,
      "outputs": [],
      "id": "PRcdHPTptw-5"
    },
    {
      "cell_type": "markdown",
      "source": [
        "# Prediction Tests"
      ],
      "metadata": {
        "id": "THkSZtQNwyl6"
      },
      "id": "THkSZtQNwyl6"
    },
    {
      "cell_type": "code",
      "source": [
        "autoencode_model.evaluate(test_input, [test_labels1, test_labels2])"
      ],
      "metadata": {
        "colab": {
          "base_uri": "https://localhost:8080/"
        },
        "id": "EywJQuWrw2Ph",
        "outputId": "3658dfbe-a082-490c-a76c-af8c6ce73f72",
        "trusted": true
      },
      "execution_count": 44,
      "outputs": [
        {
          "output_type": "stream",
          "name": "stdout",
          "text": [
            "158/158 [==============================] - 3s 14ms/step - loss: 0.0970 - conv2d_46_loss: 0.0469 - conv2d_55_loss: 0.0501\n"
          ]
        },
        {
          "output_type": "execute_result",
          "data": {
            "text/plain": [
              "[0.09704641997814178, 0.04691794887185097, 0.05012847110629082]"
            ]
          },
          "metadata": {},
          "execution_count": 44
        }
      ],
      "id": "EywJQuWrw2Ph"
    },
    {
      "cell_type": "code",
      "source": [
        "predictions = autoencode_model.predict(test_input)"
      ],
      "metadata": {
        "colab": {
          "base_uri": "https://localhost:8080/"
        },
        "id": "vZOt6341xBx0",
        "outputId": "489e8d41-93d6-4a5c-b9d2-21f4aa86270b",
        "trusted": true
      },
      "execution_count": 45,
      "outputs": [
        {
          "output_type": "stream",
          "name": "stdout",
          "text": [
            "158/158 [==============================] - 2s 11ms/step\n"
          ]
        }
      ],
      "id": "vZOt6341xBx0"
    },
    {
      "cell_type": "code",
      "source": [
        "plt.imshow(test_labels1[512])"
      ],
      "metadata": {
        "colab": {
          "base_uri": "https://localhost:8080/",
          "height": 284
        },
        "id": "k_hOhUq1iY55",
        "outputId": "48f1e6a9-c47f-453d-b163-cdfe70bbf8f9",
        "trusted": true
      },
      "execution_count": 47,
      "outputs": [
        {
          "output_type": "execute_result",
          "data": {
            "text/plain": [
              "<matplotlib.image.AxesImage at 0x7fd3916629d0>"
            ]
          },
          "metadata": {},
          "execution_count": 47
        },
        {
          "output_type": "display_data",
          "data": {
            "text/plain": [
              "<Figure size 432x288 with 1 Axes>"
            ],
            "image/png": "[encoded data removed]"
          },
          "metadata": {
            "needs_background": "light"
          }
        }
      ],
      "id": "k_hOhUq1iY55"
    },
    {
      "cell_type": "code",
      "source": [
        "plt.imshow(test_labels2[512])"
      ],
      "metadata": {
        "colab": {
          "base_uri": "https://localhost:8080/",
          "height": 284
        },
        "id": "QYM6-KPTi7GO",
        "outputId": "2890ba6b-398f-41d8-9207-146a662ee6b4",
        "trusted": true
      },
      "execution_count": 48,
      "outputs": [
        {
          "output_type": "execute_result",
          "data": {
            "text/plain": [
              "<matplotlib.image.AxesImage at 0x7fd3915d0160>"
            ]
          },
          "metadata": {},
          "execution_count": 48
        },
        {
          "output_type": "display_data",
          "data": {
            "text/plain": [
              "<Figure size 432x288 with 1 Axes>"
            ],
            "image/png": "[encoded data removed]"
          },
          "metadata": {
            "needs_background": "light"
          }
        }
      ],
      "id": "QYM6-KPTi7GO"
    },
    {
      "cell_type": "code",
      "source": [
        "plt.imshow(test_input[512])"
      ],
      "metadata": {
        "colab": {
          "base_uri": "https://localhost:8080/",
          "height": 284
        },
        "id": "YHBkr3JD5tc8",
        "outputId": "d1af9639-810a-40e0-8dc2-fa0e94d23212"
      },
      "id": "YHBkr3JD5tc8",
      "execution_count": 49,
      "outputs": [
        {
          "output_type": "execute_result",
          "data": {
            "text/plain": [
              "<matplotlib.image.AxesImage at 0x7fd3915998b0>"
            ]
          },
          "metadata": {},
          "execution_count": 49
        },
        {
          "output_type": "display_data",
          "data": {
            "text/plain": [
              "<Figure size 432x288 with 1 Axes>"
            ],
            "image/png": "[encoded data removed]"
          },
          "metadata": {
            "needs_background": "light"
          }
        }
      ]
    },
    {
      "cell_type": "code",
      "source": [
        "plt.imshow(predictions[0][512])"
      ],
      "metadata": {
        "colab": {
          "base_uri": "https://localhost:8080/",
          "height": 284
        },
        "id": "1AzeyDO3iKjV",
        "outputId": "a1ca3d8e-c720-4c3f-fed4-8a4bd23fe8b9",
        "trusted": true
      },
      "execution_count": 50,
      "outputs": [
        {
          "output_type": "execute_result",
          "data": {
            "text/plain": [
              "<matplotlib.image.AxesImage at 0x7fd391572100>"
            ]
          },
          "metadata": {},
          "execution_count": 50
        },
        {
          "output_type": "display_data",
          "data": {
            "text/plain": [
              "<Figure size 432x288 with 1 Axes>"
            ],
            "image/png": "[encoded data removed]"
          },
          "metadata": {
            "needs_background": "light"
          }
        }
      ],
      "id": "1AzeyDO3iKjV"
    },
    {
      "cell_type": "code",
      "source": [
        "plt.imshow(predictions[1][512])"
      ],
      "metadata": {
        "id": "7KUB5nuAiSnm",
        "trusted": true,
        "colab": {
          "base_uri": "https://localhost:8080/",
          "height": 284
        },
        "outputId": "048ba0b0-eba5-44d9-e2ce-2f062116e3e1"
      },
      "execution_count": 51,
      "outputs": [
        {
          "output_type": "execute_result",
          "data": {
            "text/plain": [
              "<matplotlib.image.AxesImage at 0x7fd3914bd8b0>"
            ]
          },
          "metadata": {},
          "execution_count": 51
        },
        {
          "output_type": "display_data",
          "data": {
            "text/plain": [
              "<Figure size 432x288 with 1 Axes>"
            ],
            "image/png": "[encoded data removed]"
          },
          "metadata": {
            "needs_background": "light"
          }
        }
      ],
      "id": "7KUB5nuAiSnm"
    },
    {
      "cell_type": "code",
      "source": [],
      "metadata": {
        "id": "paeIa4Ehrzvj"
      },
      "execution_count": null,
      "outputs": [],
      "id": "paeIa4Ehrzvj"
    }
  ]
}